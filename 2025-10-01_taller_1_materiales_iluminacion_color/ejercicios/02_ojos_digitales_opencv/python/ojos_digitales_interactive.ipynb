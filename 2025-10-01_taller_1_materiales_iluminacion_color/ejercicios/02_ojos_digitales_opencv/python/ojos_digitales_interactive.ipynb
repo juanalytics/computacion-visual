{
  "cells": [
    {
      "cell_type": "markdown",
      "metadata": {},
      "source": [
        "# Ejercicio 2: Ojos Digitales - Filtros y Bordes con OpenCV\n",
        "\n",
        "**Objetivo:** Entender el flujo básico de percepción: escala de grises, filtros y bordes.\n",
        "\n",
        "Este notebook permite explorar interactivamente diferentes filtros y métodos de detección de bordes.\n"
      ]
    },
    {
      "cell_type": "code",
      "execution_count": null,
      "metadata": {},
      "outputs": [],
      "source": [
        "import cv2\n",
        "import numpy as np\n",
        "import matplotlib.pyplot as plt\n",
        "from ipywidgets import interact, interactive, fixed, interact_manual\n",
        "import ipywidgets as widgets\n",
        "from pathlib import Path\n",
        "import os\n",
        "\n",
        "# Configurar matplotlib para mejor visualización\n",
        "plt.rcParams['figure.figsize'] = (12, 8)\n",
        "plt.rcParams['font.size'] = 10\n"
      ]
    }
  ],
  "metadata": {
    "language_info": {
      "name": "python"
    }
  },
  "nbformat": 4,
  "nbformat_minor": 2
}
